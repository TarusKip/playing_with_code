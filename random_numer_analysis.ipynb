{
 "cells": [
  {
   "cell_type": "code",
   "execution_count": 1,
   "id": "739f02a7",
   "metadata": {},
   "outputs": [],
   "source": [
    "# the modules we will use\n",
    "\n",
    "import numpy as np\n",
    "import random\n",
    "import matplotlib.pyplot as plt\n",
    "from collections import Counter"
   ]
  },
  {
   "cell_type": "code",
   "execution_count": 18,
   "id": "03c1d5f8",
   "metadata": {},
   "outputs": [
    {
     "data": {
      "image/png": "[encoded data removed]",
      "text/plain": [
       "<Figure size 432x288 with 1 Axes>"
      ]
     },
     "metadata": {
      "needs_background": "light"
     },
     "output_type": "display_data"
    }
   ],
   "source": [
    "Part 1\n",
    "# first we create a list of 5000 random numbers between 1 and 10, then plot their distribution\n",
    "\n",
    "random_data = np.random.randint(1, 11, 5000)\n",
    "\n",
    "plt.hist(random_data, bins=10)\n",
    "plt.show()"
   ]
  },
  {
   "cell_type": "code",
   "execution_count": 15,
   "id": "70e1b976",
   "metadata": {},
   "outputs": [
    {
     "data": {
      "text/plain": [
       "(100, 100)"
      ]
     },
     "execution_count": 15,
     "metadata": {},
     "output_type": "execute_result"
    }
   ],
   "source": [
    "# Part 2\n",
    "# create a 100 by 100 array of random numbers\n",
    "\n",
    "n1 = np.random.randint(1, 11, 100)\n",
    "\n",
    "for i in range (99):\n",
    "    n2 = np.random.randint(1, 11, 100)\n",
    "    n1 = np.vstack([n1, n2])\n",
    "    \n",
    "n1.shape"
   ]
  },
  {
   "cell_type": "code",
   "execution_count": 16,
   "id": "6f347bb7",
   "metadata": {},
   "outputs": [
    {
     "data": {
      "text/plain": [
       "126"
      ]
     },
     "execution_count": 16,
     "metadata": {},
     "output_type": "execute_result"
    }
   ],
   "source": [
    "# pick the numbers on each row with the highest frequency and add them to the most_frequent_numbers list\n",
    "\n",
    "most_frequent_numbers = []\n",
    "\n",
    "for i in range(100):\n",
    "    x = Counter(n1[i])\n",
    "    for y in range (1,11):\n",
    "        if x[y] == max(x.values()):\n",
    "            most_frequent_numbers.append(y)\n",
    "        else:\n",
    "            continue\n",
    "\n",
    "len(most_frequent_numbers)\n",
    "# the length of the list will be greater than 100 since in some rows, the most frequent number is a tie "
   ]
  },
  {
   "cell_type": "code",
   "execution_count": 17,
   "id": "052556ed",
   "metadata": {},
   "outputs": [
    {
     "data": {
      "image/png": "[encoded data removed]",
      "text/plain": [
       "<Figure size 432x288 with 1 Axes>"
      ]
     },
     "metadata": {
      "needs_background": "light"
     },
     "output_type": "display_data"
    }
   ],
   "source": [
    "# plot the distribution of the most_frequent_numbers\n",
    "\n",
    "plt.hist(most_frequent_numbers, bins = 10)\n",
    "plt.yticks(np.arange(0, 24, 2))\n",
    "plt.show()"
   ]
  }
 ],
 "metadata": {
  "kernelspec": {
   "display_name": "Python 3 (ipykernel)",
   "language": "python",
   "name": "python3"
  },
  "language_info": {
   "codemirror_mode": {
    "name": "ipython",
    "version": 3
   },
   "file_extension": ".py",
   "mimetype": "text/x-python",
   "name": "python",
   "nbconvert_exporter": "python",
   "pygments_lexer": "ipython3",
   "version": "3.9.7"
  }
 },
 "nbformat": 4,
 "nbformat_minor": 5
}
